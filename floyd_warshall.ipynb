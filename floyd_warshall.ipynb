{
 "cells": [
  {
   "cell_type": "code",
   "execution_count": 24,
   "metadata": {},
   "outputs": [],
   "source": [
    "import csv\n",
    "import time\n",
    "import numpy as np\n",
    "import copy\n",
    "from math import inf"
   ]
  },
  {
   "cell_type": "code",
   "execution_count": 27,
   "metadata": {},
   "outputs": [],
   "source": [
    "# Floyd_Warshall, saving memory\n",
    "def floyd_warshall(n,G):\n",
    "    '''\n",
    "    This function find the shortest of all pairs shortest path in a given graph G with weighted edges\n",
    "    using Floyd-Warshall algorithm. If there is a ngative cycle, it detects it and prints. \n",
    "    \n",
    "    Inputs: \n",
    "            n: number of vertices\n",
    "            \n",
    "            G: given graph G as a list of list. e.g. [[1,2,5],[3,7,15],...] where 1,2 are node numbers and\n",
    "            5 is the weight\n",
    "    \n",
    "    Output:\n",
    "            short_short: shortest of all shortes pathes between vertices of G (if there is no negative cycle).\n",
    "    '''\n",
    "    \n",
    "    A = np.full([n+1,n+1,2], inf)\n",
    "    # Base case\n",
    "    for i in range(1,n+1):\n",
    "        A[i,i,0] = 0\n",
    "    # base case for (i,j) has an edge\n",
    "    for edges in G:\n",
    "        i = edges[0] \n",
    "        j = edges[1] \n",
    "        A[i,j,0] = edges[2]\n",
    "\n",
    "        \n",
    "    # shortest path computation\n",
    "    short_short = inf\n",
    "    for k in range(1,n+1):\n",
    "        for i in range(1,n+1):\n",
    "            for j in range(1,n+1):\n",
    "                A[i,j,1] = min(A[i,j,0], A[i,k,0]+A[k,j,0])\n",
    "                # shortest path computation\n",
    "                if k == n and A[i,j,1] < short_short:\n",
    "                    short_short = A[i,j,1]\n",
    "                    # negative cycle check\n",
    "                    if i == j and A[i,i,1] < 0:\n",
    "                        short_short = \"negative cycle is detected\"\n",
    "                        return short_short\n",
    "                #copy to current\n",
    "                A[i,j,0] = A[i,j,1]\n",
    "                \n",
    "    return short_short"
   ]
  },
  {
   "cell_type": "code",
   "execution_count": 28,
   "metadata": {},
   "outputs": [
    {
     "name": "stderr",
     "output_type": "stream",
     "text": [
      "C:\\Users\\saniaki\\AppData\\Local\\Continuum\\anaconda3\\lib\\site-packages\\ipykernel_launcher.py:33: RuntimeWarning: overflow encountered in double_scalars\n"
     ]
    },
    {
     "name": "stdout",
     "output_type": "stream",
     "text": [
      "negative cycle is detected\n",
      "--- 810.5816023349762 seconds ---\n"
     ]
    }
   ],
   "source": [
    "# reading the input file as a list\n",
    "with open('g1_negative_cycle.txt') as f:\n",
    "    reader = csv.reader(f, delimiter=\" \")\n",
    "    d = list(reader)\n",
    "\n",
    "n , m = int(d[0][0]), int(d[0][1]) # n is number of vertices, m number of edges\n",
    "d.pop(0)\n",
    "\n",
    "d = [[int(i[0]),int(i[1]), int(i[2])] for i in d] # convert d into integers\n",
    "\n",
    "start_time = time.time()\n",
    "print(floyd_warshall(n,d))\n",
    "print(\"--- %s seconds ---\" % (time.time() - start_time))"
   ]
  },
  {
   "cell_type": "code",
   "execution_count": 29,
   "metadata": {},
   "outputs": [
    {
     "name": "stderr",
     "output_type": "stream",
     "text": [
      "C:\\Users\\saniaki\\AppData\\Local\\Continuum\\anaconda3\\lib\\site-packages\\ipykernel_launcher.py:33: RuntimeWarning: overflow encountered in double_scalars\n"
     ]
    },
    {
     "name": "stdout",
     "output_type": "stream",
     "text": [
      "negative cycle is detected\n",
      "--- 821.8660509586334 seconds ---\n"
     ]
    }
   ],
   "source": [
    "# reading the input file as a list\n",
    "with open('g2_negative_cycle.txt') as f:\n",
    "    reader = csv.reader(f, delimiter=\" \")\n",
    "    d = list(reader)\n",
    "\n",
    "n , m = int(d[0][0]), int(d[0][1]) # n is number of vertices, m number of edges\n",
    "d.pop(0)\n",
    "\n",
    "d = [[int(i[0]),int(i[1]), int(i[2])] for i in d] # convert d into integers\n",
    "\n",
    "start_time = time.time()\n",
    "print(floyd_warshall(n,d))\n",
    "print(\"--- %s seconds ---\" % (time.time() - start_time))"
   ]
  },
  {
   "cell_type": "code",
   "execution_count": 30,
   "metadata": {},
   "outputs": [
    {
     "name": "stdout",
     "output_type": "stream",
     "text": [
      "-19.0\n",
      "--- 826.1891090869904 seconds ---\n"
     ]
    }
   ],
   "source": [
    "# reading the input file as a list\n",
    "with open('g3_-19.txt') as f:\n",
    "    reader = csv.reader(f, delimiter=\" \")\n",
    "    d = list(reader)\n",
    "\n",
    "n , m = int(d[0][0]), int(d[0][1]) # n is number of vertices, m number of edges\n",
    "d.pop(0)\n",
    "\n",
    "d = [[int(i[0]),int(i[1]), int(i[2])] for i in d] # convert d into integers\n",
    "\n",
    "start_time = time.time()\n",
    "print(floyd_warshall(n,d))\n",
    "print(\"--- %s seconds ---\" % (time.time() - start_time))"
   ]
  },
  {
   "cell_type": "code",
   "execution_count": null,
   "metadata": {},
   "outputs": [],
   "source": []
  }
 ],
 "metadata": {
  "kernelspec": {
   "display_name": "Python 3",
   "language": "python",
   "name": "python3"
  },
  "language_info": {
   "codemirror_mode": {
    "name": "ipython",
    "version": 3
   },
   "file_extension": ".py",
   "mimetype": "text/x-python",
   "name": "python",
   "nbconvert_exporter": "python",
   "pygments_lexer": "ipython3",
   "version": "3.7.4"
  }
 },
 "nbformat": 4,
 "nbformat_minor": 2
}
